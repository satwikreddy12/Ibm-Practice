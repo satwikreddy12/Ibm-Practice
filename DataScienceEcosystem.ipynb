{
 "cells": [
  {
   "cell_type": "markdown",
   "id": "56d825ad-3f7c-40cb-8a50-30e6670da6ee",
   "metadata": {},
   "source": [
    "# Data Science Tools and Ecosystem"
   ]
  },
  {
   "cell_type": "markdown",
   "id": "0039efe6-d062-4b33-a5b0-360c94cf48d2",
   "metadata": {},
   "source": [
    "#### In this notebook, Data Science Tools and Ecosystem are summarized."
   ]
  },
  {
   "cell_type": "markdown",
   "id": "baa9cc93-7c1b-4765-9bdc-8fbf68f872e1",
   "metadata": {},
   "source": [
    "#### **Objectives:**\n",
    "     - List popular languages for Data Science\n",
    "     - Markdown Cells\n",
    "     - Using Jupyter Notebook\n"
   ]
  },
  {
   "cell_type": "markdown",
   "id": "363a8328-b664-4587-b01e-b691fe3ee8e2",
   "metadata": {},
   "source": [
    "#### Some of the popular languages that Data Scientists use are:\n",
    "      1.Python\n",
    "      2.R Language\n",
    "      3.Scala"
   ]
  },
  {
   "cell_type": "markdown",
   "id": "c142dec8-ca8e-4145-8415-24442daa838e",
   "metadata": {},
   "source": [
    "#### Some of the commonly used libraries used by Data Scientists include:\n",
    "    1.TensorFlow\n",
    "    2.Scikit\n",
    "    3.PyTorch"
   ]
  },
  {
   "cell_type": "markdown",
   "id": "989bd266-1bd6-4943-ace3-1797f4d5c820",
   "metadata": {},
   "source": [
    "Data Science Tools|\n",
    "------------------| \n",
    "Pandas|\n",
    "Weka|\n",
    "Scrapy|"
   ]
  },
  {
   "cell_type": "markdown",
   "id": "9bf48bf7-5a62-41ad-ad52-d4ec4ddc4121",
   "metadata": {},
   "source": [
    "### Below are a few examples of evaluating arithmetic expressions in Python"
   ]
  },
  {
   "cell_type": "code",
   "execution_count": 1,
   "id": "cfef796c-7099-4a38-9774-fcb346564d70",
   "metadata": {},
   "outputs": [
    {
     "data": {
      "text/plain": [
       "17"
      ]
     },
     "execution_count": 1,
     "metadata": {},
     "output_type": "execute_result"
    }
   ],
   "source": [
    "#This a simple arithmetic expression to mutiply then add integers\n",
    "(3*4)+5"
   ]
  },
  {
   "cell_type": "code",
   "execution_count": 2,
   "id": "3a35de4f-bcb0-4de9-b151-a69712435664",
   "metadata": {},
   "outputs": [
    {
     "name": "stdout",
     "output_type": "stream",
     "text": [
      "3.3333333333333335\n"
     ]
    }
   ],
   "source": [
    "#This will convert 200 minutes to hours by diving by 60\n",
    "min=200\n",
    "hours=(min/60)\n",
    "print(hours)"
   ]
  },
  {
   "cell_type": "markdown",
   "id": "26b94e07-bb6f-4f89-8897-bfc0dc8cc719",
   "metadata": {},
   "source": [
    "## Author\n",
    "   Satwik Reddy Ala"
   ]
  },
  {
   "cell_type": "code",
   "execution_count": null,
   "id": "cf8a6ba7-59c2-480d-ae34-e3c498753249",
   "metadata": {},
   "outputs": [],
   "source": []
  }
 ],
 "metadata": {
  "kernelspec": {
   "display_name": "Python",
   "language": "python",
   "name": "conda-env-python-py"
  },
  "language_info": {
   "codemirror_mode": {
    "name": "ipython",
    "version": 3
   },
   "file_extension": ".py",
   "mimetype": "text/x-python",
   "name": "python",
   "nbconvert_exporter": "python",
   "pygments_lexer": "ipython3",
   "version": "3.7.12"
  }
 },
 "nbformat": 4,
 "nbformat_minor": 5
}
